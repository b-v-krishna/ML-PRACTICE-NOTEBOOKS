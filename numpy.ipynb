{
 "cells": [
  {
   "cell_type": "code",
   "execution_count": 1,
   "id": "350df12a",
   "metadata": {},
   "outputs": [],
   "source": [
    "import numpy as np"
   ]
  },
  {
   "cell_type": "code",
   "execution_count": 9,
   "id": "a26990ec",
   "metadata": {},
   "outputs": [
    {
     "name": "stdout",
     "output_type": "stream",
     "text": [
      "[1.+0.j 2.+0.j]\n",
      "[1. 2.]\n",
      "[[1 2]\n",
      " [3 4]]\n",
      "[[1 2]\n",
      " [3 4]]\n"
     ]
    }
   ],
   "source": [
    "## array(): it creates array from list or tuples. SYNTAX=array(object,dtype=None,copy=True,order='k') ##\n",
    "\n",
    "a=np.array([1,2],'complex')\n",
    "print(a)\n",
    "\n",
    "a=np.array([1,2],'float')\n",
    "print(a)\n",
    "\n",
    "b=np.array([[1,2],[3,4]])\n",
    "print(b)\n",
    "\n",
    "a=np.array([[1,2],[3,4]],order='c')\n",
    "print(a)"
   ]
  },
  {
   "cell_type": "code",
   "execution_count": 11,
   "id": "2905b590",
   "metadata": {},
   "outputs": [],
   "source": [
    "#ARANGE CREATES ARRAY OF EVENLY SPACED VALUES :arange(start,stop,step,dtype=None) ##\n",
    " ## start is optional default 0 ,sto is compulsory ##"
   ]
  },
  {
   "cell_type": "code",
   "execution_count": 12,
   "id": "f138e130",
   "metadata": {},
   "outputs": [
    {
     "name": "stdout",
     "output_type": "stream",
     "text": [
      "[ 3.  4.  5.  6.  7.  8.  9. 10. 11. 12. 13. 14. 15. 16. 17. 18. 19.]\n",
      "[ 0.+0.j  1.+0.j  2.+0.j  3.+0.j  4.+0.j  5.+0.j  6.+0.j  7.+0.j  8.+0.j\n",
      "  9.+0.j 10.+0.j 11.+0.j 12.+0.j 13.+0.j 14.+0.j 15.+0.j 16.+0.j 17.+0.j\n",
      " 18.+0.j 19.+0.j]\n"
     ]
    }
   ],
   "source": [
    "a=np.arange(3.0,20)\n",
    "b=np.arange(20,dtype='complex')\n",
    "print(a)\n",
    "print(b)"
   ]
  },
  {
   "cell_type": "code",
   "execution_count": 13,
   "id": "4e0dc240",
   "metadata": {},
   "outputs": [],
   "source": [
    "#zeros : it creates array filled with zeros ##\n",
    "## zeros(shape,dtype=float,order='c') ## c is for rows, k for columns"
   ]
  },
  {
   "cell_type": "code",
   "execution_count": 15,
   "id": "6bb5623b",
   "metadata": {},
   "outputs": [
    {
     "name": "stdout",
     "output_type": "stream",
     "text": [
      "[0. 0. 0. 0. 0.]\n",
      "[[0.+0.j 0.+0.j 0.+0.j]\n",
      " [0.+0.j 0.+0.j 0.+0.j]]\n"
     ]
    }
   ],
   "source": [
    "b=np.zeros(5)\n",
    "print(b)\n",
    "\n",
    "a=np.zeros((2,3),dtype=\"complex\")\n",
    "print(a)"
   ]
  },
  {
   "cell_type": "code",
   "execution_count": 18,
   "id": "b481c785",
   "metadata": {},
   "outputs": [],
   "source": [
    "# ones  it creates array filled with 1's #\n",
    "## syntax: ones(shape,dtype=None,order='c') by default datatype is float ##"
   ]
  },
  {
   "cell_type": "code",
   "execution_count": 19,
   "id": "80ed9bcb",
   "metadata": {},
   "outputs": [
    {
     "name": "stdout",
     "output_type": "stream",
     "text": [
      "[[1. 1. 1.]\n",
      " [1. 1. 1.]]\n",
      "[1 1 1 1 1 1 1]\n"
     ]
    }
   ],
   "source": [
    "a=np.ones((2,3))\n",
    "b=np.ones(7,dtype='int')\n",
    "print(a)\n",
    "print(b)"
   ]
  },
  {
   "cell_type": "code",
   "execution_count": 20,
   "id": "4e7cdb4a",
   "metadata": {},
   "outputs": [],
   "source": [
    "#linspace :it divides array into evenly spaced values ,same like arange but here we have to specify no of breakpoints ##\n",
    "## syntax: linspace(start,stop,num=50,endpoint=True)  by default num is 50 and endpoint is true ##"
   ]
  },
  {
   "cell_type": "code",
   "execution_count": 24,
   "id": "7ff40da3",
   "metadata": {},
   "outputs": [
    {
     "name": "stdout",
     "output_type": "stream",
     "text": [
      "[2.         2.04081633 2.08163265 2.12244898 2.16326531 2.20408163\n",
      " 2.24489796 2.28571429 2.32653061 2.36734694 2.40816327 2.44897959\n",
      " 2.48979592 2.53061224 2.57142857 2.6122449  2.65306122 2.69387755\n",
      " 2.73469388 2.7755102  2.81632653 2.85714286 2.89795918 2.93877551\n",
      " 2.97959184 3.02040816 3.06122449 3.10204082 3.14285714 3.18367347\n",
      " 3.2244898  3.26530612 3.30612245 3.34693878 3.3877551  3.42857143\n",
      " 3.46938776 3.51020408 3.55102041 3.59183673 3.63265306 3.67346939\n",
      " 3.71428571 3.75510204 3.79591837 3.83673469 3.87755102 3.91836735\n",
      " 3.95918367 4.        ]\n",
      "[2. 4. 6. 8.]\n",
      "[2.  3.5 5.  6.5]\n"
     ]
    }
   ],
   "source": [
    "a=np.linspace(2.0,4.0)\n",
    "print(a)\n",
    "\n",
    "a=np.linspace(2,8,num=4)\n",
    "print(a)\n",
    "\n",
    "a=np.linspace(2,8,num=4,endpoint=False)\n",
    "print(a)"
   ]
  },
  {
   "cell_type": "code",
   "execution_count": 25,
   "id": "cb4aa48e",
   "metadata": {},
   "outputs": [],
   "source": [
    "### EYE :it returns array filled with zeros except in kth diagonal whose values are equal to 1 ##\n",
    " ## syntax: eye(n,m=None,k=0,dtpe='int') n=rows,m=columns (optional) ##\n",
    "    ##  k=0 by default for  k=1 upper diagonal, for k=-1 lower diagonal ##"
   ]
  },
  {
   "cell_type": "code",
   "execution_count": 27,
   "id": "3bc354fd",
   "metadata": {},
   "outputs": [
    {
     "name": "stdout",
     "output_type": "stream",
     "text": [
      "[[1. 0. 0.]\n",
      " [0. 1. 0.]\n",
      " [0. 0. 1.]]\n",
      "[[0. 1. 0.]\n",
      " [0. 0. 1.]\n",
      " [0. 0. 0.]]\n",
      "[[0. 0. 0.]\n",
      " [1. 0. 0.]\n",
      " [0. 1. 0.]]\n"
     ]
    }
   ],
   "source": [
    "a=np.eye(3,3)\n",
    "print(a)\n",
    "\n",
    "a=np.eye(3,3,k=1)\n",
    "print(a)\n",
    "\n",
    "a=np.eye(3,k=-1)\n",
    "print(a)"
   ]
  },
  {
   "cell_type": "code",
   "execution_count": 28,
   "id": "55cde33b",
   "metadata": {},
   "outputs": [],
   "source": [
    "## random ##\n",
    "## rand: random float values ##\n",
    "## randint: random integer ##\n",
    "## choice :random value from given list ##\n",
    "## size will specify the shape of an array ##"
   ]
  },
  {
   "cell_type": "code",
   "execution_count": 44,
   "id": "2fbbe8ae",
   "metadata": {},
   "outputs": [
    {
     "name": "stdout",
     "output_type": "stream",
     "text": [
      "[0.47720744 0.36254982 0.33274832 0.08447933 0.78695803 0.25687333\n",
      " 0.60340935 0.67720801 0.78332697 0.48042195]\n",
      "5\n",
      "[[2 3 7]\n",
      " [3 8 3]\n",
      " [5 7 2]]\n",
      "3\n"
     ]
    }
   ],
   "source": [
    "from numpy import random\n",
    "\n",
    "a= random.rand(10) \n",
    "print(a)\n",
    "\n",
    "\n",
    "a= random.randint(10) \n",
    "print(a)\n",
    "a= random.randint(10,size=(3,3))\n",
    "print(a)\n",
    "\n",
    "\n",
    "a = random.choice([3, 5, 7, 9])\n",
    "print(a)"
   ]
  },
  {
   "cell_type": "code",
   "execution_count": null,
   "id": "bfa5a028",
   "metadata": {},
   "outputs": [],
   "source": [
    "### Attributes ##"
   ]
  },
  {
   "cell_type": "code",
   "execution_count": 47,
   "id": "65609b2c",
   "metadata": {},
   "outputs": [
    {
     "name": "stdout",
     "output_type": "stream",
     "text": [
      "(2, 3)\n",
      "2\n"
     ]
    }
   ],
   "source": [
    "a=np.array([[1,2,3],[3,4,5]])\n",
    "print(a.shape)  ## to find shape of array ##\n",
    "print(a.ndim) ## to find dimension of array ##"
   ]
  },
  {
   "cell_type": "code",
   "execution_count": 48,
   "id": "9c9d396e",
   "metadata": {},
   "outputs": [
    {
     "data": {
      "text/plain": [
       "dtype('int32')"
      ]
     },
     "execution_count": 48,
     "metadata": {},
     "output_type": "execute_result"
    }
   ],
   "source": [
    "a.dtype  ## to find data type of array ##"
   ]
  },
  {
   "cell_type": "code",
   "execution_count": 49,
   "id": "f96f509a",
   "metadata": {},
   "outputs": [
    {
     "data": {
      "text/plain": [
       "4"
      ]
     },
     "execution_count": 49,
     "metadata": {},
     "output_type": "execute_result"
    }
   ],
   "source": [
    "a.itemsize ## to find size of each item in bytes ##"
   ]
  },
  {
   "cell_type": "code",
   "execution_count": 50,
   "id": "fad77dbb",
   "metadata": {},
   "outputs": [
    {
     "data": {
      "text/plain": [
       "6"
      ]
     },
     "execution_count": 50,
     "metadata": {},
     "output_type": "execute_result"
    }
   ],
   "source": [
    "a.size   ## to find no of elements in array ##"
   ]
  },
  {
   "cell_type": "code",
   "execution_count": null,
   "id": "043588d5",
   "metadata": {},
   "outputs": [],
   "source": [
    "### INDEXING ## index starts from 0 to n-1\n",
    "## 1d array:a[i] 2d array:a[i][j]##"
   ]
  },
  {
   "cell_type": "code",
   "execution_count": 60,
   "id": "abf39f3d",
   "metadata": {},
   "outputs": [
    {
     "name": "stdout",
     "output_type": "stream",
     "text": [
      "[1 2 3 4 5 6 7 8 9]\n",
      "3\n",
      "[[1 2 3]\n",
      " [4 5 6]\n",
      " [7 8 9]]\n",
      "8\n"
     ]
    }
   ],
   "source": [
    "a=np.arange(1,10)\n",
    "print(a)\n",
    "print(a[2])\n",
    "\n",
    "a=np.arange(1,10).reshape(3,3)\n",
    "print(a)\n",
    "print(a[2][1])"
   ]
  },
  {
   "cell_type": "code",
   "execution_count": 68,
   "id": "3a3c06ed",
   "metadata": {},
   "outputs": [
    {
     "name": "stdout",
     "output_type": "stream",
     "text": [
      "[1 2 3]\n",
      "[2 4 6 8]\n"
     ]
    }
   ],
   "source": [
    "## boolean indexing ## \n",
    "a=np.arange(1,10)\n",
    "print(a[a<4]) ## accesing values less than 4 ##\n",
    "print(a[a%2==0])  ## accesing even values in array##"
   ]
  },
  {
   "cell_type": "code",
   "execution_count": 69,
   "id": "5206da50",
   "metadata": {},
   "outputs": [
    {
     "name": "stdout",
     "output_type": "stream",
     "text": [
      "[1 2 3 4]\n",
      "[3 4 5 6]\n"
     ]
    }
   ],
   "source": [
    "## ARITHMETIC OPERATIONS ##\n",
    "a=np.arange(1,5)\n",
    "print(a)\n",
    "print(a+2) ## adding 2 to every element in array ##"
   ]
  },
  {
   "cell_type": "code",
   "execution_count": 71,
   "id": "daafbbdb",
   "metadata": {},
   "outputs": [
    {
     "name": "stdout",
     "output_type": "stream",
     "text": [
      "[2 4 6 8]\n"
     ]
    }
   ],
   "source": [
    "print(a*2)  ## multiplying with 2 to every element in array ##"
   ]
  },
  {
   "cell_type": "code",
   "execution_count": null,
   "id": "460cbf29",
   "metadata": {},
   "outputs": [],
   "source": [
    "## ARRAY MANIPULATIONS ##"
   ]
  },
  {
   "cell_type": "code",
   "execution_count": 72,
   "id": "b7e4771d",
   "metadata": {},
   "outputs": [
    {
     "name": "stdout",
     "output_type": "stream",
     "text": [
      "[[1 2 3]\n",
      " [4 5 6]]\n",
      "[[ 7  8]\n",
      " [ 9 10]\n",
      " [11 12]]\n"
     ]
    }
   ],
   "source": [
    "## reshape ## no of elements in array should be equal to shape i.e mxn=size\n",
    "a=np.arange(1,7).reshape(2,3)\n",
    "b=np.arange(7,13).reshape(3,2)\n",
    "print(a)\n",
    "print(b)"
   ]
  },
  {
   "cell_type": "code",
   "execution_count": 76,
   "id": "342b8ef0",
   "metadata": {},
   "outputs": [
    {
     "name": "stdout",
     "output_type": "stream",
     "text": [
      "[1 2 3 4 5 6 7 8 9]\n",
      "[[1 2 3]\n",
      " [4 5 6]\n",
      " [7 8 9]\n",
      " [1 2 3]]\n"
     ]
    }
   ],
   "source": [
    "## RESIZE: resize(oldarray,shape) if new array is larger than old array then it will repeat elements in old array ##\n",
    "\n",
    "a=np.arange(1,10)\n",
    "print(a)\n",
    "\n",
    "b=np.resize(a,(4,3))\n",
    "print(b)"
   ]
  },
  {
   "cell_type": "code",
   "execution_count": null,
   "id": "74a82f64",
   "metadata": {},
   "outputs": [],
   "source": [
    "## flatten : it returns a copy of array and collapse into 1d array ##\n",
    "## if we change elements in copied array it won't effect original array ##"
   ]
  },
  {
   "cell_type": "code",
   "execution_count": 80,
   "id": "e3bbb340",
   "metadata": {},
   "outputs": [
    {
     "name": "stdout",
     "output_type": "stream",
     "text": [
      "[[1 2 3]\n",
      " [4 5 6]\n",
      " [7 8 9]]\n",
      "[1 2 3 4 5 6 7 8 9]\n",
      "[0 2 3 4 5 6 7 8 9]\n",
      "[[1 2 3]\n",
      " [4 5 6]\n",
      " [7 8 9]]\n"
     ]
    }
   ],
   "source": [
    "a=np.arange(1,10).reshape(3,3)\n",
    "print(a)\n",
    "\n",
    "b=a.flatten()\n",
    "print(b)\n",
    "\n",
    "b[0]=0\n",
    "print(b)\n",
    "print(a)"
   ]
  },
  {
   "cell_type": "code",
   "execution_count": 81,
   "id": "183b09a8",
   "metadata": {},
   "outputs": [],
   "source": [
    "## ravel : it returns a view of array and collapse into 1d array ##\n",
    "## if we change elements in copied array it will effect original array ##"
   ]
  },
  {
   "cell_type": "code",
   "execution_count": 82,
   "id": "b1a41979",
   "metadata": {},
   "outputs": [
    {
     "name": "stdout",
     "output_type": "stream",
     "text": [
      "[[1 2 3]\n",
      " [4 5 6]\n",
      " [7 8 9]]\n",
      "[1 2 3 4 5 6 7 8 9]\n",
      "[0 2 3 4 5 6 7 8 9]\n",
      "[[0 2 3]\n",
      " [4 5 6]\n",
      " [7 8 9]]\n"
     ]
    }
   ],
   "source": [
    "a=np.arange(1,10).reshape(3,3)\n",
    "print(a)\n",
    "\n",
    "b=a.ravel()\n",
    "print(b)\n",
    "\n",
    "b[0]=0\n",
    "print(b)\n",
    "print(a)"
   ]
  },
  {
   "cell_type": "code",
   "execution_count": null,
   "id": "4ec49cf4",
   "metadata": {},
   "outputs": [],
   "source": [
    "## split:it will split the array into parts ##\n",
    "## axis=0 for rows , axis=1 for columns ##"
   ]
  },
  {
   "cell_type": "code",
   "execution_count": 85,
   "id": "a2c68d24",
   "metadata": {},
   "outputs": [
    {
     "name": "stdout",
     "output_type": "stream",
     "text": [
      "[[1 2 3]\n",
      " [4 5 6]]\n",
      "[array([[1, 2, 3]]), array([[4, 5, 6]])]\n"
     ]
    }
   ],
   "source": [
    "a=np.arange(1,7).reshape(2,3)\n",
    "print(a)\n",
    "print(np.split(a,2))"
   ]
  },
  {
   "cell_type": "code",
   "execution_count": 88,
   "id": "6a543ae3",
   "metadata": {},
   "outputs": [
    {
     "name": "stdout",
     "output_type": "stream",
     "text": [
      "[array([[1],\n",
      "       [4]]), array([[2],\n",
      "       [5]]), array([[3],\n",
      "       [6]])]\n",
      "[array([[1, 2, 3]]), array([[4, 5, 6]])]\n"
     ]
    }
   ],
   "source": [
    "print(np.split(a,3,axis=1))\n",
    "\n",
    "print(np.split(a,2,axis=0))"
   ]
  },
  {
   "cell_type": "code",
   "execution_count": 101,
   "id": "f5144ab9",
   "metadata": {},
   "outputs": [
    {
     "name": "stdout",
     "output_type": "stream",
     "text": [
      "[[1 2]\n",
      " [3 4]\n",
      " [5 6]]\n"
     ]
    }
   ],
   "source": [
    "## concatenate: it will join two arrays shape must be similar ##\n",
    "a = np.array([[1, 2], [3, 4]])\n",
    "b = np.array([[5, 6]])\n",
    "print(np.concatenate((a,b),axis=0))"
   ]
  },
  {
   "cell_type": "code",
   "execution_count": 109,
   "id": "13683be4",
   "metadata": {},
   "outputs": [
    {
     "name": "stdout",
     "output_type": "stream",
     "text": [
      "[[1 2 3]\n",
      " [4 5 6]]\n",
      "[[0 1 2]\n",
      " [3 4 5]]\n",
      "[[4 5 6]\n",
      " [7 8 9]]\n",
      "[[0 1 2]\n",
      " [3 4 5]\n",
      " [4 5 6]\n",
      " [7 8 9]]\n"
     ]
    }
   ],
   "source": [
    "## vstack: join sequence vertically (row wise) ## for 2d axis=0\n",
    "\n",
    "a = np.array([1, 2, 3])\n",
    "b = np.array([4, 5, 6])\n",
    "print(np.vstack((a, b)))\n",
    "\n",
    "a=np.arange(6).reshape(2,3)\n",
    "b=np.arange(4,10).reshape(2,3)\n",
    "print(a)\n",
    "print(b)\n",
    "print(np.vstack((a, b)))"
   ]
  },
  {
   "cell_type": "code",
   "execution_count": 110,
   "id": "a5ee1379",
   "metadata": {},
   "outputs": [
    {
     "name": "stdout",
     "output_type": "stream",
     "text": [
      "[[1 2 3 4 5 6]]\n",
      "[[0 1 2]\n",
      " [3 4 5]]\n",
      "[[4 5 6]\n",
      " [7 8 9]]\n",
      "[[0 1 2 4 5 6]\n",
      " [3 4 5 7 8 9]]\n"
     ]
    }
   ],
   "source": [
    "## hstack: join sequence horizontally (col wise) ## for 2d axis=1\n",
    "\n",
    "a = np.array([[1, 2, 3]])\n",
    "b = np.array([[4, 5, 6]])\n",
    "print(np.hstack((a, b)))\n",
    "\n",
    "a=np.arange(6).reshape(2,3)\n",
    "b=np.arange(4,10).reshape(2,3)\n",
    "print(a)\n",
    "print(b)\n",
    "print(np.hstack((a, b)))"
   ]
  },
  {
   "cell_type": "code",
   "execution_count": 114,
   "id": "82112072",
   "metadata": {},
   "outputs": [
    {
     "name": "stdout",
     "output_type": "stream",
     "text": [
      "[[0 1 2]\n",
      " [3 4 5]]\n",
      "[0 1 2 4 3 4 5]\n",
      "[0 4 1 2 4 3 4 5]\n"
     ]
    }
   ],
   "source": [
    "## insert : it inserts value at specified position ##\n",
    "## syntax: np.insert(a,obj,values,axis) obj=index,values=values we are inserting ##\n",
    "\n",
    "a=np.arange(6).reshape(2,3)\n",
    "print(a)\n",
    "print(np.insert(a,3,4))\n",
    "print(np.insert(a,(1,3),4))"
   ]
  },
  {
   "cell_type": "code",
   "execution_count": 126,
   "id": "13ee9136",
   "metadata": {},
   "outputs": [
    {
     "name": "stdout",
     "output_type": "stream",
     "text": [
      "[[0 1 2]\n",
      " [3 4 5]]\n",
      "[ 0  1  2  3  4  5 10 20]\n"
     ]
    }
   ],
   "source": [
    "## append :it appends values at end ##\n",
    "\n",
    "a=np.arange(6).reshape(2,3)\n",
    "print(a)\n",
    "print(np.append(a,[10,20]))"
   ]
  },
  {
   "cell_type": "code",
   "execution_count": 127,
   "id": "eefddca1",
   "metadata": {},
   "outputs": [
    {
     "name": "stdout",
     "output_type": "stream",
     "text": [
      "[0 1 3 4 5]\n"
     ]
    }
   ],
   "source": [
    "## delete ##\n",
    "print(np.delete(a,2))"
   ]
  },
  {
   "cell_type": "code",
   "execution_count": null,
   "id": "7753a709",
   "metadata": {},
   "outputs": [],
   "source": []
  }
 ],
 "metadata": {
  "kernelspec": {
   "display_name": "Python 3",
   "language": "python",
   "name": "python3"
  },
  "language_info": {
   "codemirror_mode": {
    "name": "ipython",
    "version": 3
   },
   "file_extension": ".py",
   "mimetype": "text/x-python",
   "name": "python",
   "nbconvert_exporter": "python",
   "pygments_lexer": "ipython3",
   "version": "3.8.8"
  }
 },
 "nbformat": 4,
 "nbformat_minor": 5
}
